{
 "cells": [
  {
   "cell_type": "code",
   "execution_count": 1,
   "metadata": {},
   "outputs": [],
   "source": [
    "import pandas as pd \n",
    "import numpy as np \n",
    "import boto3\n",
    "import io\n",
    "import seaborn as sns\n",
    "import matplotlib.pyplot as plt\n",
    "from sklearn.preprocessing import StandardScaler\n"
   ]
  },
  {
   "cell_type": "code",
   "execution_count": 2,
   "metadata": {},
   "outputs": [],
   "source": [
    "# Data loading\n",
    "# Data exploration\n",
    "# Data cleaning and pre-processing \n",
    "# Save Data to csv file for ML training "
   ]
  },
  {
   "cell_type": "code",
   "execution_count": 3,
   "metadata": {},
   "outputs": [],
   "source": [
    "# boto3 client to get S3 data\n",
    "s3_client = boto3.client('s3')\n",
    "bucket_name='aws-ml-blog-sagemaker-census-segmentation'\n",
    "\n",
    "# get a list of objects in the bucket\n",
    "obj_list=s3_client.list_objects(Bucket=bucket_name)\n",
    "\n",
    "# print objects in S3 bucket\n",
    "files=[]\n",
    "for contents in obj_list['Contents']:\n",
    "    files.append(contents['Key'])\n",
    "    \n",
    "file_name=files[0]"
   ]
  },
  {
   "cell_type": "code",
   "execution_count": 4,
   "metadata": {},
   "outputs": [],
   "source": [
    "# passing in the bucket and file name\n",
    "data_object = s3_client.get_object(Bucket=bucket_name, Key=file_name)"
   ]
  },
  {
   "cell_type": "code",
   "execution_count": 5,
   "metadata": {},
   "outputs": [
    {
     "data": {
      "text/html": [
       "<div>\n",
       "<style scoped>\n",
       "    .dataframe tbody tr th:only-of-type {\n",
       "        vertical-align: middle;\n",
       "    }\n",
       "\n",
       "    .dataframe tbody tr th {\n",
       "        vertical-align: top;\n",
       "    }\n",
       "\n",
       "    .dataframe thead th {\n",
       "        text-align: right;\n",
       "    }\n",
       "</style>\n",
       "<table border=\"1\" class=\"dataframe\">\n",
       "  <thead>\n",
       "    <tr style=\"text-align: right;\">\n",
       "      <th></th>\n",
       "      <th>CensusId</th>\n",
       "      <th>State</th>\n",
       "      <th>County</th>\n",
       "      <th>TotalPop</th>\n",
       "      <th>Men</th>\n",
       "      <th>Women</th>\n",
       "      <th>Hispanic</th>\n",
       "      <th>White</th>\n",
       "      <th>Black</th>\n",
       "      <th>Native</th>\n",
       "      <th>...</th>\n",
       "      <th>Walk</th>\n",
       "      <th>OtherTransp</th>\n",
       "      <th>WorkAtHome</th>\n",
       "      <th>MeanCommute</th>\n",
       "      <th>Employed</th>\n",
       "      <th>PrivateWork</th>\n",
       "      <th>PublicWork</th>\n",
       "      <th>SelfEmployed</th>\n",
       "      <th>FamilyWork</th>\n",
       "      <th>Unemployment</th>\n",
       "    </tr>\n",
       "  </thead>\n",
       "  <tbody>\n",
       "    <tr>\n",
       "      <th>0</th>\n",
       "      <td>1001</td>\n",
       "      <td>Alabama</td>\n",
       "      <td>Autauga</td>\n",
       "      <td>55221</td>\n",
       "      <td>26745</td>\n",
       "      <td>28476</td>\n",
       "      <td>2.6</td>\n",
       "      <td>75.8</td>\n",
       "      <td>18.5</td>\n",
       "      <td>0.4</td>\n",
       "      <td>...</td>\n",
       "      <td>0.5</td>\n",
       "      <td>1.3</td>\n",
       "      <td>1.8</td>\n",
       "      <td>26.5</td>\n",
       "      <td>23986</td>\n",
       "      <td>73.6</td>\n",
       "      <td>20.9</td>\n",
       "      <td>5.5</td>\n",
       "      <td>0.0</td>\n",
       "      <td>7.6</td>\n",
       "    </tr>\n",
       "    <tr>\n",
       "      <th>1</th>\n",
       "      <td>1003</td>\n",
       "      <td>Alabama</td>\n",
       "      <td>Baldwin</td>\n",
       "      <td>195121</td>\n",
       "      <td>95314</td>\n",
       "      <td>99807</td>\n",
       "      <td>4.5</td>\n",
       "      <td>83.1</td>\n",
       "      <td>9.5</td>\n",
       "      <td>0.6</td>\n",
       "      <td>...</td>\n",
       "      <td>1.0</td>\n",
       "      <td>1.4</td>\n",
       "      <td>3.9</td>\n",
       "      <td>26.4</td>\n",
       "      <td>85953</td>\n",
       "      <td>81.5</td>\n",
       "      <td>12.3</td>\n",
       "      <td>5.8</td>\n",
       "      <td>0.4</td>\n",
       "      <td>7.5</td>\n",
       "    </tr>\n",
       "    <tr>\n",
       "      <th>2</th>\n",
       "      <td>1005</td>\n",
       "      <td>Alabama</td>\n",
       "      <td>Barbour</td>\n",
       "      <td>26932</td>\n",
       "      <td>14497</td>\n",
       "      <td>12435</td>\n",
       "      <td>4.6</td>\n",
       "      <td>46.2</td>\n",
       "      <td>46.7</td>\n",
       "      <td>0.2</td>\n",
       "      <td>...</td>\n",
       "      <td>1.8</td>\n",
       "      <td>1.5</td>\n",
       "      <td>1.6</td>\n",
       "      <td>24.1</td>\n",
       "      <td>8597</td>\n",
       "      <td>71.8</td>\n",
       "      <td>20.8</td>\n",
       "      <td>7.3</td>\n",
       "      <td>0.1</td>\n",
       "      <td>17.6</td>\n",
       "    </tr>\n",
       "    <tr>\n",
       "      <th>3</th>\n",
       "      <td>1007</td>\n",
       "      <td>Alabama</td>\n",
       "      <td>Bibb</td>\n",
       "      <td>22604</td>\n",
       "      <td>12073</td>\n",
       "      <td>10531</td>\n",
       "      <td>2.2</td>\n",
       "      <td>74.5</td>\n",
       "      <td>21.4</td>\n",
       "      <td>0.4</td>\n",
       "      <td>...</td>\n",
       "      <td>0.6</td>\n",
       "      <td>1.5</td>\n",
       "      <td>0.7</td>\n",
       "      <td>28.8</td>\n",
       "      <td>8294</td>\n",
       "      <td>76.8</td>\n",
       "      <td>16.1</td>\n",
       "      <td>6.7</td>\n",
       "      <td>0.4</td>\n",
       "      <td>8.3</td>\n",
       "    </tr>\n",
       "    <tr>\n",
       "      <th>4</th>\n",
       "      <td>1009</td>\n",
       "      <td>Alabama</td>\n",
       "      <td>Blount</td>\n",
       "      <td>57710</td>\n",
       "      <td>28512</td>\n",
       "      <td>29198</td>\n",
       "      <td>8.6</td>\n",
       "      <td>87.9</td>\n",
       "      <td>1.5</td>\n",
       "      <td>0.3</td>\n",
       "      <td>...</td>\n",
       "      <td>0.9</td>\n",
       "      <td>0.4</td>\n",
       "      <td>2.3</td>\n",
       "      <td>34.9</td>\n",
       "      <td>22189</td>\n",
       "      <td>82.0</td>\n",
       "      <td>13.5</td>\n",
       "      <td>4.2</td>\n",
       "      <td>0.4</td>\n",
       "      <td>7.7</td>\n",
       "    </tr>\n",
       "  </tbody>\n",
       "</table>\n",
       "<p>5 rows × 37 columns</p>\n",
       "</div>"
      ],
      "text/plain": [
       "   CensusId    State   County  TotalPop    Men  Women  Hispanic  White  Black  \\\n",
       "0      1001  Alabama  Autauga     55221  26745  28476       2.6   75.8   18.5   \n",
       "1      1003  Alabama  Baldwin    195121  95314  99807       4.5   83.1    9.5   \n",
       "2      1005  Alabama  Barbour     26932  14497  12435       4.6   46.2   46.7   \n",
       "3      1007  Alabama     Bibb     22604  12073  10531       2.2   74.5   21.4   \n",
       "4      1009  Alabama   Blount     57710  28512  29198       8.6   87.9    1.5   \n",
       "\n",
       "   Native  ...  Walk  OtherTransp  WorkAtHome  MeanCommute  Employed  \\\n",
       "0     0.4  ...   0.5          1.3         1.8         26.5     23986   \n",
       "1     0.6  ...   1.0          1.4         3.9         26.4     85953   \n",
       "2     0.2  ...   1.8          1.5         1.6         24.1      8597   \n",
       "3     0.4  ...   0.6          1.5         0.7         28.8      8294   \n",
       "4     0.3  ...   0.9          0.4         2.3         34.9     22189   \n",
       "\n",
       "   PrivateWork  PublicWork  SelfEmployed  FamilyWork  Unemployment  \n",
       "0         73.6        20.9           5.5         0.0           7.6  \n",
       "1         81.5        12.3           5.8         0.4           7.5  \n",
       "2         71.8        20.8           7.3         0.1          17.6  \n",
       "3         76.8        16.1           6.7         0.4           8.3  \n",
       "4         82.0        13.5           4.2         0.4           7.7  \n",
       "\n",
       "[5 rows x 37 columns]"
      ]
     },
     "execution_count": 5,
     "metadata": {},
     "output_type": "execute_result"
    }
   ],
   "source": [
    "data_body = data_object[\"Body\"].read()\n",
    "data_stream = io.BytesIO(data_body)\n",
    "\n",
    "# create a dataframe\n",
    "df = pd.read_csv(data_stream, header=0, delimiter=\",\") \n",
    "df.head()"
   ]
  },
  {
   "cell_type": "code",
   "execution_count": 6,
   "metadata": {},
   "outputs": [
    {
     "name": "stdout",
     "output_type": "stream",
     "text": [
      "Number of rows of DataFrame 3220\n",
      "Number of columns of DataFrame 37\n"
     ]
    }
   ],
   "source": [
    "print(f'Number of rows of DataFrame {df.shape[0]}')\n",
    "print(f'Number of columns of DataFrame {df.shape[1]}')"
   ]
  },
  {
   "cell_type": "code",
   "execution_count": 7,
   "metadata": {},
   "outputs": [
    {
     "name": "stdout",
     "output_type": "stream",
     "text": [
      "CensusId     int64\n",
      "State       object\n",
      "County      object\n",
      "TotalPop     int64\n",
      "Men          int64\n",
      "dtype: object\n"
     ]
    }
   ],
   "source": [
    "# get datatype for each feature (string, float, int, bool)\n",
    "print(df.dtypes.head())\n",
    "# State and County are object, o/w everything is float or int"
   ]
  },
  {
   "cell_type": "code",
   "execution_count": 8,
   "metadata": {},
   "outputs": [
    {
     "name": "stdout",
     "output_type": "stream",
     "text": [
      "Found Null Values\n"
     ]
    }
   ],
   "source": [
    "# find null values in DataFrame\n",
    "if df.isnull().sum().any() == False:\n",
    "    print('Data is Clean, No Null values found')\n",
    "else:\n",
    "    print('Found Null Values')"
   ]
  },
  {
   "cell_type": "code",
   "execution_count": 9,
   "metadata": {},
   "outputs": [
    {
     "data": {
      "text/plain": [
       "CensusId           0.000000\n",
       "State              0.000000\n",
       "County             0.000000\n",
       "TotalPop           0.000000\n",
       "Men                0.000000\n",
       "Women              0.000000\n",
       "Hispanic           0.000000\n",
       "White              0.000000\n",
       "Black              0.000000\n",
       "Native             0.000000\n",
       "Asian              0.000000\n",
       "Pacific            0.000000\n",
       "Citizen            0.000000\n",
       "Income             0.031056\n",
       "IncomeErr          0.031056\n",
       "IncomePerCap       0.000000\n",
       "IncomePerCapErr    0.000000\n",
       "Poverty            0.000000\n",
       "ChildPoverty       0.031056\n",
       "Professional       0.000000\n",
       "Service            0.000000\n",
       "Office             0.000000\n",
       "Construction       0.000000\n",
       "Production         0.000000\n",
       "Drive              0.000000\n",
       "Carpool            0.000000\n",
       "Transit            0.000000\n",
       "Walk               0.000000\n",
       "OtherTransp        0.000000\n",
       "WorkAtHome         0.000000\n",
       "MeanCommute        0.000000\n",
       "Employed           0.000000\n",
       "PrivateWork        0.000000\n",
       "PublicWork         0.000000\n",
       "SelfEmployed       0.000000\n",
       "FamilyWork         0.000000\n",
       "Unemployment       0.000000\n",
       "dtype: float64"
      ]
     },
     "execution_count": 9,
     "metadata": {},
     "output_type": "execute_result"
    }
   ],
   "source": [
    "# Null-Values found, lets see the percentage for each column \n",
    "df.isnull().sum() / len(df) * 100 "
   ]
  },
  {
   "cell_type": "code",
   "execution_count": 10,
   "metadata": {},
   "outputs": [
    {
     "name": "stdout",
     "output_type": "stream",
     "text": [
      "       Income  IncomeErr  ChildPoverty\n",
      "0     51281.0     2391.0          18.6\n",
      "1     50254.0     1263.0          19.2\n",
      "2     32964.0     2973.0          45.3\n",
      "3     38678.0     3995.0          27.9\n",
      "4     45813.0     3141.0          27.2\n",
      "...       ...        ...           ...\n",
      "3215  16948.0     1234.0          56.1\n",
      "3216  18104.0     3771.0          58.1\n",
      "3217  17818.0     1255.0          68.3\n",
      "3218  15627.0     1836.0          62.1\n",
      "3219  14708.0     1245.0          56.3\n",
      "\n",
      "[3220 rows x 3 columns]\n"
     ]
    }
   ],
   "source": [
    "# given the results above, [ChildPoverty, IncomeErr, Income] contain null values \n",
    "# less than 1% of df columns have null values \n",
    "nan_values = df[df.columns[df.isnull().any()]]\n",
    "print(nan_values)"
   ]
  },
  {
   "cell_type": "code",
   "execution_count": 11,
   "metadata": {},
   "outputs": [
    {
     "data": {
      "text/plain": [
       "<AxesSubplot:>"
      ]
     },
     "execution_count": 11,
     "metadata": {},
     "output_type": "execute_result"
    },
    {
     "data": {
      "image/png": "[encoded data removed]",
      "text/plain": [
       "<Figure size 432x288 with 1 Axes>"
      ]
     },
     "metadata": {
      "needs_background": "light"
     },
     "output_type": "display_data"
    }
   ],
   "source": [
    "# Null values can be dropped or replaced by Median, Mean, or K Nearest Neighbor\n",
    "# Before filling Null values, analyz the data distribution for [ChildPoverty, IncomeErr, Income]\n",
    "df.boxplot(column=['ChildPoverty', 'IncomeErr', 'Income'])"
   ]
  },
  {
   "cell_type": "code",
   "execution_count": 12,
   "metadata": {},
   "outputs": [],
   "source": [
    "# given the boxplot, there's alot of extreme values in IncomeErr and Income\n",
    "# fill in null values with median, not mean (mean is sensitive to extreme values)\n",
    "df = df.fillna(df.median())"
   ]
  },
  {
   "cell_type": "code",
   "execution_count": 13,
   "metadata": {},
   "outputs": [
    {
     "name": "stdout",
     "output_type": "stream",
     "text": [
      "Data is Clean, No Null values found\n"
     ]
    }
   ],
   "source": [
    "# Verify if DataFrame still has null values \n",
    "if df.isnull().sum().any() == False:\n",
    "    print('Data is Clean, No Null values found')\n",
    "else:\n",
    "    print('Found Null Values')"
   ]
  },
  {
   "cell_type": "code",
   "execution_count": 14,
   "metadata": {},
   "outputs": [
    {
     "name": "stdout",
     "output_type": "stream",
     "text": [
      "Index(['CensusId', 'State', 'County', 'TotalPop', 'Men', 'Women', 'Hispanic',\n",
      "       'White', 'Black', 'Native', 'Asian', 'Pacific', 'Citizen', 'Income',\n",
      "       'IncomeErr', 'IncomePerCap', 'IncomePerCapErr', 'Poverty',\n",
      "       'ChildPoverty', 'Professional', 'Service', 'Office', 'Construction',\n",
      "       'Production', 'Drive', 'Carpool', 'Transit', 'Walk', 'OtherTransp',\n",
      "       'WorkAtHome', 'MeanCommute', 'Employed', 'PrivateWork', 'PublicWork',\n",
      "       'SelfEmployed', 'FamilyWork', 'Unemployment'],\n",
      "      dtype='object')\n"
     ]
    }
   ],
   "source": [
    "# Reduce 37 columns due to curse of dimensionality \n",
    "print(df.columns)"
   ]
  },
  {
   "cell_type": "code",
   "execution_count": 15,
   "metadata": {},
   "outputs": [],
   "source": [
    "# Combine 'State' and 'County' and index the column\n",
    "df.index = df['State'] + '-' + df['County']\n"
   ]
  },
  {
   "cell_type": "code",
   "execution_count": 16,
   "metadata": {},
   "outputs": [],
   "source": [
    "# drop the 'CensusId', 'State', 'County' columns\n",
    "df = df.drop(['CensusId', 'State', 'County'], axis=1)"
   ]
  },
  {
   "cell_type": "code",
   "execution_count": 17,
   "metadata": {},
   "outputs": [],
   "source": [
    "# occupation features historgram \n",
    "\n",
    "occupation_list = ['Employed','PrivateWork','PublicWork','SelfEmployed', 'Unemployment']\n",
    "plt.subplots(figsize=(15,8))\n",
    "sns.histplot(df[occupation_list].astype(float))"
   ]
  },
  {
   "cell_type": "code",
   "execution_count": 18,
   "metadata": {},
   "outputs": [
    {
     "data": {
      "text/plain": [
       "<AxesSubplot:ylabel='Count'>"
      ]
     },
     "execution_count": 18,
     "metadata": {},
     "output_type": "execute_result"
    },
    {
     "data": {
      "image/png": "[encoded data removed]",
      "text/plain": [
       "<Figure size 1080x576 with 1 Axes>"
      ]
     },
     "metadata": {
      "needs_background": "light"
     },
     "output_type": "display_data"
    }
   ],
   "source": [
    "# transportation features historgram \n",
    "transport_list = ['Drive', 'Carpool', 'Transit', 'Walk', 'OtherTransp']\n",
    "plt.subplots(figsize=(15,8))\n",
    "sns.histplot(df[transport_list].astype(float))\n"
   ]
  },
  {
   "cell_type": "markdown",
   "metadata": {},
   "source": []
  },
  {
   "cell_type": "code",
   "execution_count": 19,
   "metadata": {},
   "outputs": [
    {
     "data": {
      "text/plain": [
       "<AxesSubplot:ylabel='Count'>"
      ]
     },
     "execution_count": 19,
     "metadata": {},
     "output_type": "execute_result"
    },
    {
     "data": {
      "image/png": "[encoded data removed]",
      "text/plain": [
       "<Figure size 1080x576 with 1 Axes>"
      ]
     },
     "metadata": {
      "needs_background": "light"
     },
     "output_type": "display_data"
    }
   ],
   "source": [
    "# race features historgram  \n",
    "race_list = ['Hispanic', 'White', 'Black', 'Native', 'Asian','Pacific']\n",
    "plt.subplots(figsize=(15,8))\n",
    "sns.histplot(df[race_list].astype(float))"
   ]
  },
  {
   "cell_type": "code",
   "execution_count": 20,
   "metadata": {},
   "outputs": [
    {
     "name": "stdout",
     "output_type": "stream",
     "text": [
      "         0         1         2         3         4         5         6   \\\n",
      "0 -0.138410 -0.141404 -0.135495 -0.437226  0.016189  0.688840 -0.182503   \n",
      "1  0.299796  0.296298  0.303096 -0.338465  0.334559  0.058451 -0.154924   \n",
      "2 -0.227020 -0.219588 -0.234126 -0.333267 -1.274734  2.664058 -0.210082   \n",
      "3 -0.240576 -0.235061 -0.245833 -0.458018 -0.040507  0.891965 -0.182503   \n",
      "4 -0.130614 -0.130125 -0.131055 -0.125349  0.543898 -0.501894 -0.196292   \n",
      "\n",
      "         7        8         9   ...        24        25        26        27  \\\n",
      "0 -0.087010 -0.11259 -0.142428  ... -0.751831 -0.187184 -0.890976  0.575263   \n",
      "1 -0.200963 -0.11259  0.379156  ... -0.618693 -0.127329 -0.230241  0.557405   \n",
      "2 -0.314915 -0.11259 -0.240001  ... -0.405673 -0.067475 -0.953903  0.146661   \n",
      "3 -0.428868 -0.11259 -0.255697  ... -0.725203 -0.067475 -1.237075  0.986007   \n",
      "4 -0.428868 -0.11259 -0.134529  ... -0.645321 -0.725871 -0.733658  2.075372   \n",
      "\n",
      "         28        29        30        31        32        33  \n",
      "0 -0.144362 -0.078778  0.512975 -0.621250 -0.633107 -0.120729  \n",
      "1  0.269645  0.926060 -0.808203 -0.544610  0.245886 -0.145146  \n",
      "2 -0.247177 -0.307728  0.497613 -0.161406 -0.413359  2.320989  \n",
      "3 -0.249201  0.328245 -0.224427 -0.314687  0.245886  0.050192  \n",
      "4 -0.156368  0.989657 -0.623852 -0.953360  0.245886 -0.096311  \n",
      "\n",
      "[5 rows x 34 columns]\n"
     ]
    }
   ],
   "source": [
    "from sklearn.preprocessing import StandardScaler\n",
    "import pandas as pd\n",
    "\n",
    "# transform and fit the data  in Standardize features by removing the mean and scaling to unit variance\n",
    "\n",
    "# inittiate the StandardScaler\n",
    "scaler = StandardScaler()\n",
    "\n",
    "# fit and transform Standardize features as pandas DataFrame\n",
    "df_scaled = pd.DataFrame(scaler.fit_transform(df.astype(float)))\n",
    "print(df_scaled.head())\n",
    "\n"
   ]
  },
  {
   "cell_type": "code",
   "execution_count": 21,
   "metadata": {},
   "outputs": [
    {
     "name": "stdout",
     "output_type": "stream",
     "text": [
      "Index(['TotalPop', 'Men', 'Women', 'Hispanic', 'White', 'Black', 'Native',\n",
      "       'Asian', 'Pacific', 'Citizen', 'Income', 'IncomeErr', 'IncomePerCap',\n",
      "       'IncomePerCapErr', 'Poverty', 'ChildPoverty', 'Professional', 'Service',\n",
      "       'Office', 'Construction', 'Production', 'Drive', 'Carpool', 'Transit',\n",
      "       'Walk', 'OtherTransp', 'WorkAtHome', 'MeanCommute', 'Employed',\n",
      "       'PrivateWork', 'PublicWork', 'SelfEmployed', 'FamilyWork',\n",
      "       'Unemployment'],\n",
      "      dtype='object')\n",
      "Index(['Alabama-Autauga', 'Alabama-Baldwin', 'Alabama-Barbour', 'Alabama-Bibb',\n",
      "       'Alabama-Blount', 'Alabama-Bullock', 'Alabama-Butler',\n",
      "       'Alabama-Calhoun', 'Alabama-Chambers', 'Alabama-Cherokee',\n",
      "       ...\n",
      "       'Puerto Rico-Toa Alta', 'Puerto Rico-Toa Baja',\n",
      "       'Puerto Rico-Trujillo Alto', 'Puerto Rico-Utuado',\n",
      "       'Puerto Rico-Vega Alta', 'Puerto Rico-Vega Baja', 'Puerto Rico-Vieques',\n",
      "       'Puerto Rico-Villalba', 'Puerto Rico-Yabucoa', 'Puerto Rico-Yauco'],\n",
      "      dtype='object', length=3220)\n"
     ]
    }
   ],
   "source": [
    "# rename the columns and define index \n",
    "df_scaled.columns = df.columns\n",
    "df_scaled.index = df.index\n",
    "print(df_scaled.columns)\n",
    "print(df_scaled.index)\n"
   ]
  },
  {
   "cell_type": "code",
   "execution_count": 22,
   "metadata": {},
   "outputs": [],
   "source": [
    "# export the clean data into a csv file for ML model training \n",
    "df_scaled.to_csv('../inputs/population_seg.csv')"
   ]
  },
  {
   "cell_type": "code",
   "execution_count": 23,
   "metadata": {},
   "outputs": [],
   "source": [
    "# implement this in another rep py file \n",
    "# PCA for dimensionality reduction\n",
    "# Feature engineering/transform\n",
    "# Clustering transformed data with k-means\n",
    "# Use Kmeans clustering model and evalute model \n"
   ]
  },
  {
   "cell_type": "code",
   "execution_count": null,
   "metadata": {},
   "outputs": [],
   "source": []
  }
 ],
 "metadata": {
  "interpreter": {
   "hash": "10e89b4373ca82b9aa008416dbc6678ec2573a3d463e333e4d350f38af34d33f"
  },
  "kernelspec": {
   "display_name": "Python 3.7.9 64-bit (conda)",
   "name": "python3"
  },
  "language_info": {
   "codemirror_mode": {
    "name": "ipython",
    "version": 3
   },
   "file_extension": ".py",
   "mimetype": "text/x-python",
   "name": "python",
   "nbconvert_exporter": "python",
   "pygments_lexer": "ipython3",
   "version": "3.7.9"
  },
  "orig_nbformat": 4
 },
 "nbformat": 4,
 "nbformat_minor": 2
}